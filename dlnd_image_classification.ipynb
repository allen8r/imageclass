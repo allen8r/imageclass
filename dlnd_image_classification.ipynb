{
 "cells": [
  {
   "cell_type": "markdown",
   "metadata": {
    "collapsed": true,
    "deletable": true,
    "editable": true
   },
   "source": [
    "# Image Classification\n",
    "In this project, you'll classify images from the [CIFAR-10 dataset](https://www.cs.toronto.edu/~kriz/cifar.html).  The dataset consists of airplanes, dogs, cats, and other objects. You'll preprocess the images, then train a convolutional neural network on all the samples. The images need to be normalized and the labels need to be one-hot encoded.  You'll get to apply what you learned and build a convolutional, max pooling, dropout, and fully connected layers.  At the end, you'll get to see your neural network's predictions on the sample images.\n",
    "## Get the Data\n",
    "Run the following cell to download the [CIFAR-10 dataset for python](https://www.cs.toronto.edu/~kriz/cifar-10-python.tar.gz)."
   ]
  },
  {
   "cell_type": "code",
   "execution_count": 1,
   "metadata": {
    "collapsed": false,
    "deletable": true,
    "editable": true,
    "scrolled": true
   },
   "outputs": [
    {
     "name": "stderr",
     "output_type": "stream",
     "text": [
      "CIFAR-10 Dataset: 171MB [00:32, 5.30MB/s]                              \n"
     ]
    },
    {
     "name": "stdout",
     "output_type": "stream",
     "text": [
      "All files found!\n"
     ]
    }
   ],
   "source": [
    "\"\"\"\n",
    "DON'T MODIFY ANYTHING IN THIS CELL THAT IS BELOW THIS LINE\n",
    "\"\"\"\n",
    "from urllib.request import urlretrieve\n",
    "from os.path import isfile, isdir\n",
    "from tqdm import tqdm\n",
    "import problem_unittests as tests\n",
    "import tarfile\n",
    "\n",
    "cifar10_dataset_folder_path = 'cifar-10-batches-py'\n",
    "\n",
    "# Use Floyd's cifar-10 dataset if present\n",
    "floyd_cifar10_location = '/input/cifar-10/python.tar.gz'\n",
    "if isfile(floyd_cifar10_location):\n",
    "    tar_gz_path = floyd_cifar10_location\n",
    "else:\n",
    "    tar_gz_path = 'cifar-10-python.tar.gz'\n",
    "\n",
    "class DLProgress(tqdm):\n",
    "    last_block = 0\n",
    "\n",
    "    def hook(self, block_num=1, block_size=1, total_size=None):\n",
    "        self.total = total_size\n",
    "        self.update((block_num - self.last_block) * block_size)\n",
    "        self.last_block = block_num\n",
    "\n",
    "if not isfile(tar_gz_path):\n",
    "    with DLProgress(unit='B', unit_scale=True, miniters=1, desc='CIFAR-10 Dataset') as pbar:\n",
    "        urlretrieve(\n",
    "            'https://www.cs.toronto.edu/~kriz/cifar-10-python.tar.gz',\n",
    "            tar_gz_path,\n",
    "            pbar.hook)\n",
    "\n",
    "if not isdir(cifar10_dataset_folder_path):\n",
    "    with tarfile.open(tar_gz_path) as tar:\n",
    "        tar.extractall()\n",
    "        tar.close()\n",
    "\n",
    "\n",
    "tests.test_folder_path(cifar10_dataset_folder_path)"
   ]
  },
  {
   "cell_type": "markdown",
   "metadata": {
    "deletable": true,
    "editable": true
   },
   "source": [
    "## Explore the Data\n",
    "The dataset is broken into batches to prevent your machine from running out of memory.  The CIFAR-10 dataset consists of 5 batches, named `data_batch_1`, `data_batch_2`, etc.. Each batch contains the labels and images that are one of the following:\n",
    "* airplane\n",
    "* automobile\n",
    "* bird\n",
    "* cat\n",
    "* deer\n",
    "* dog\n",
    "* frog\n",
    "* horse\n",
    "* ship\n",
    "* truck\n",
    "\n",
    "Understanding a dataset is part of making predictions on the data.  Play around with the code cell below by changing the `batch_id` and `sample_id`. The `batch_id` is the id for a batch (1-5). The `sample_id` is the id for a image and label pair in the batch.\n",
    "\n",
    "Ask yourself \"What are all possible labels?\", \"What is the range of values for the image data?\", \"Are the labels in order or random?\".  Answers to questions like these will help you preprocess the data and end up with better predictions."
   ]
  },
  {
   "cell_type": "code",
   "execution_count": 2,
   "metadata": {
    "collapsed": false,
    "deletable": true,
    "editable": true
   },
   "outputs": [
    {
     "name": "stdout",
     "output_type": "stream",
     "text": [
      "\n",
      "Stats of batch 1:\n",
      "Samples: 10000\n",
      "Label Counts: {0: 1005, 1: 974, 2: 1032, 3: 1016, 4: 999, 5: 937, 6: 1030, 7: 1001, 8: 1025, 9: 981}\n",
      "First 20 Labels: [6, 9, 9, 4, 1, 1, 2, 7, 8, 3, 4, 7, 7, 2, 9, 9, 9, 3, 2, 6]\n",
      "\n",
      "Example of Image 505:\n",
      "Image - Min Value: 0 Max Value: 252\n",
      "Image - Shape: (32, 32, 3)\n",
      "Label - Label Id: 4 Name: deer\n"
     ]
    },
    {
     "data": {
      "image/png": "[encoded data removed]",
      "text/plain": [
       "<matplotlib.figure.Figure at 0x7ffb7447c748>"
      ]
     },
     "metadata": {
      "image/png": {
       "height": 250,
       "width": 253
      }
     },
     "output_type": "display_data"
    }
   ],
   "source": [
    "%matplotlib inline\n",
    "%config InlineBackend.figure_format = 'retina'\n",
    "\n",
    "import helper\n",
    "import numpy as np\n",
    "\n",
    "# Explore the dataset\n",
    "batch_id = 1\n",
    "sample_id = 505\n",
    "helper.display_stats(cifar10_dataset_folder_path, batch_id, sample_id)"
   ]
  },
  {
   "cell_type": "markdown",
   "metadata": {
    "deletable": true,
    "editable": true
   },
   "source": [
    "## Implement Preprocess Functions\n",
    "### Normalize\n",
    "In the cell below, implement the `normalize` function to take in image data, `x`, and return it as a normalized Numpy array. The values should be in the range of 0 to 1, inclusive.  The return object should be the same shape as `x`."
   ]
  },
  {
   "cell_type": "code",
   "execution_count": 3,
   "metadata": {
    "collapsed": false,
    "deletable": true,
    "editable": true
   },
   "outputs": [
    {
     "name": "stdout",
     "output_type": "stream",
     "text": [
      "Tests Passed\n"
     ]
    }
   ],
   "source": [
    "def normalize(x):\n",
    "    \"\"\"\n",
    "    Normalize a list of sample image data in the range of 0 to 1\n",
    "    : x: List of image data.  The image shape is (32, 32, 3)\n",
    "    : return: Numpy array of normalize data\n",
    "    \"\"\"\n",
    "    # TODO: Implement Function\n",
    "    x_min = x.min()\n",
    "    x_max = x.max()\n",
    "    return (x - x_min) / (x_max - x_min)\n",
    "\n",
    "\n",
    "\"\"\"\n",
    "DON'T MODIFY ANYTHING IN THIS CELL THAT IS BELOW THIS LINE\n",
    "\"\"\"\n",
    "tests.test_normalize(normalize)"
   ]
  },
  {
   "cell_type": "markdown",
   "metadata": {
    "deletable": true,
    "editable": true
   },
   "source": [
    "### One-hot encode\n",
    "Just like the previous code cell, you'll be implementing a function for preprocessing.  This time, you'll implement the `one_hot_encode` function. The input, `x`, are a list of labels.  Implement the function to return the list of labels as One-Hot encoded Numpy array.  The possible values for labels are 0 to 9. The one-hot encoding function should return the same encoding for each value between each call to `one_hot_encode`.  Make sure to save the map of encodings outside the function.\n",
    "\n",
    "Hint: Don't reinvent the wheel."
   ]
  },
  {
   "cell_type": "code",
   "execution_count": 4,
   "metadata": {
    "collapsed": false,
    "deletable": true,
    "editable": true
   },
   "outputs": [
    {
     "name": "stdout",
     "output_type": "stream",
     "text": [
      "Tests Passed\n"
     ]
    }
   ],
   "source": [
    "def one_hot_encode(x):\n",
    "    \"\"\"\n",
    "    One hot encode a list of sample labels. Return a one-hot encoded vector for each label.\n",
    "    : x: List of sample Labels\n",
    "    : return: Numpy array of one-hot encoded labels\n",
    "    \"\"\"\n",
    "    # TODO: Implement Function\n",
    "    encoded = np.zeros([len(x), 10])\n",
    "    for i in range(len(x)):\n",
    "        encoded[i][x[i]] = 1\n",
    "    \n",
    "    return encoded\n",
    "\n",
    "\n",
    "\"\"\"\n",
    "DON'T MODIFY ANYTHING IN THIS CELL THAT IS BELOW THIS LINE\n",
    "\"\"\"\n",
    "tests.test_one_hot_encode(one_hot_encode)"
   ]
  },
  {
   "cell_type": "markdown",
   "metadata": {
    "deletable": true,
    "editable": true
   },
   "source": [
    "### Randomize Data\n",
    "As you saw from exploring the data above, the order of the samples are randomized.  It doesn't hurt to randomize it again, but you don't need to for this dataset."
   ]
  },
  {
   "cell_type": "markdown",
   "metadata": {
    "deletable": true,
    "editable": true
   },
   "source": [
    "## Preprocess all the data and save it\n",
    "Running the code cell below will preprocess all the CIFAR-10 data and save it to file. The code below also uses 10% of the training data for validation."
   ]
  },
  {
   "cell_type": "code",
   "execution_count": 5,
   "metadata": {
    "collapsed": true,
    "deletable": true,
    "editable": true
   },
   "outputs": [],
   "source": [
    "\"\"\"\n",
    "DON'T MODIFY ANYTHING IN THIS CELL\n",
    "\"\"\"\n",
    "# Preprocess Training, Validation, and Testing Data\n",
    "helper.preprocess_and_save_data(cifar10_dataset_folder_path, normalize, one_hot_encode)"
   ]
  },
  {
   "cell_type": "markdown",
   "metadata": {
    "deletable": true,
    "editable": true
   },
   "source": [
    "# Check Point\n",
    "This is your first checkpoint.  If you ever decide to come back to this notebook or have to restart the notebook, you can start from here.  The preprocessed data has been saved to disk."
   ]
  },
  {
   "cell_type": "code",
   "execution_count": 1,
   "metadata": {
    "collapsed": true,
    "deletable": true,
    "editable": true
   },
   "outputs": [],
   "source": [
    "\"\"\"\n",
    "DON'T MODIFY ANYTHING IN THIS CELL\n",
    "\"\"\"\n",
    "import pickle\n",
    "import problem_unittests as tests\n",
    "import helper\n",
    "\n",
    "# Load the Preprocessed Validation data\n",
    "valid_features, valid_labels = pickle.load(open('preprocess_validation.p', mode='rb'))"
   ]
  },
  {
   "cell_type": "markdown",
   "metadata": {
    "deletable": true,
    "editable": true
   },
   "source": [
    "## Build the network\n",
    "For the neural network, you'll build each layer into a function.  Most of the code you've seen has been outside of functions. To test your code more thoroughly, we require that you put each layer in a function.  This allows us to give you better feedback and test for simple mistakes using our unittests before you submit your project.\n",
    "\n",
    ">**Note:** If you're finding it hard to dedicate enough time for this course each week, we've provided a small shortcut to this part of the project. In the next couple of problems, you'll have the option to use classes from the [TensorFlow Layers](https://www.tensorflow.org/api_docs/python/tf/layers) or [TensorFlow Layers (contrib)](https://www.tensorflow.org/api_guides/python/contrib.layers) packages to build each layer, except the layers you build in the \"Convolutional and Max Pooling Layer\" section.  TF Layers is similar to Keras's and TFLearn's abstraction to layers, so it's easy to pickup.\n",
    "\n",
    ">However, if you would like to get the most out of this course, try to solve all the problems _without_ using anything from the TF Layers packages. You **can** still use classes from other packages that happen to have the same name as ones you find in TF Layers! For example, instead of using the TF Layers version of the `conv2d` class, [tf.layers.conv2d](https://www.tensorflow.org/api_docs/python/tf/layers/conv2d), you would want to use the TF Neural Network version of `conv2d`, [tf.nn.conv2d](https://www.tensorflow.org/api_docs/python/tf/nn/conv2d). \n",
    "\n",
    "Let's begin!\n",
    "\n",
    "### Input\n",
    "The neural network needs to read the image data, one-hot encoded labels, and dropout keep probability. Implement the following functions\n",
    "* Implement `neural_net_image_input`\n",
    " * Return a [TF Placeholder](https://www.tensorflow.org/api_docs/python/tf/placeholder)\n",
    " * Set the shape using `image_shape` with batch size set to `None`.\n",
    " * Name the TensorFlow placeholder \"x\" using the TensorFlow `name` parameter in the [TF Placeholder](https://www.tensorflow.org/api_docs/python/tf/placeholder).\n",
    "* Implement `neural_net_label_input`\n",
    " * Return a [TF Placeholder](https://www.tensorflow.org/api_docs/python/tf/placeholder)\n",
    " * Set the shape using `n_classes` with batch size set to `None`.\n",
    " * Name the TensorFlow placeholder \"y\" using the TensorFlow `name` parameter in the [TF Placeholder](https://www.tensorflow.org/api_docs/python/tf/placeholder).\n",
    "* Implement `neural_net_keep_prob_input`\n",
    " * Return a [TF Placeholder](https://www.tensorflow.org/api_docs/python/tf/placeholder) for dropout keep probability.\n",
    " * Name the TensorFlow placeholder \"keep_prob\" using the TensorFlow `name` parameter in the [TF Placeholder](https://www.tensorflow.org/api_docs/python/tf/placeholder).\n",
    "\n",
    "These names will be used at the end of the project to load your saved model.\n",
    "\n",
    "Note: `None` for shapes in TensorFlow allow for a dynamic size."
   ]
  },
  {
   "cell_type": "code",
   "execution_count": 2,
   "metadata": {
    "collapsed": false,
    "deletable": true,
    "editable": true
   },
   "outputs": [
    {
     "name": "stdout",
     "output_type": "stream",
     "text": [
      "Image Input Tests Passed.\n",
      "Label Input Tests Passed.\n",
      "Keep Prob Tests Passed.\n"
     ]
    }
   ],
   "source": [
    "import tensorflow as tf\n",
    "import numpy as np\n",
    "\n",
    "def neural_net_image_input(image_shape):\n",
    "    \"\"\"\n",
    "    Return a Tensor for a batch of image input\n",
    "    : image_shape: Shape of the images\n",
    "    : return: Tensor for image input.\n",
    "    \"\"\"\n",
    "    return tf.placeholder(tf.float32, shape=[None] + list(image_shape), name='x')\n",
    "\n",
    "\n",
    "def neural_net_label_input(n_classes):\n",
    "    \"\"\"\n",
    "    Return a Tensor for a batch of label input\n",
    "    : n_classes: Number of classes\n",
    "    : return: Tensor for label input.\n",
    "    \"\"\"\n",
    "    return tf.placeholder(tf.float32, shape=[None] + [n_classes], name='y')\n",
    "\n",
    "\n",
    "def neural_net_keep_prob_input():\n",
    "    \"\"\"\n",
    "    Return a Tensor for keep probability\n",
    "    : return: Tensor for keep probability.\n",
    "    \"\"\"\n",
    "    return tf.placeholder(tf.float32, name='keep_prob')\n",
    "\n",
    "\n",
    "\"\"\"\n",
    "DON'T MODIFY ANYTHING IN THIS CELL THAT IS BELOW THIS LINE\n",
    "\"\"\"\n",
    "tf.reset_default_graph()\n",
    "tests.test_nn_image_inputs(neural_net_image_input)\n",
    "tests.test_nn_label_inputs(neural_net_label_input)\n",
    "tests.test_nn_keep_prob_inputs(neural_net_keep_prob_input)"
   ]
  },
  {
   "cell_type": "markdown",
   "metadata": {
    "deletable": true,
    "editable": true
   },
   "source": [
    "### Convolution and Max Pooling Layer\n",
    "Convolution layers have a lot of success with images. For this code cell, you should implement the function `conv2d_maxpool` to apply convolution then max pooling:\n",
    "* Create the weight and bias using `conv_ksize`, `conv_num_outputs` and the shape of `x_tensor`.\n",
    "* Apply a convolution to `x_tensor` using weight and `conv_strides`.\n",
    " * We recommend you use same padding, but you're welcome to use any padding.\n",
    "* Add bias\n",
    "* Add a nonlinear activation to the convolution.\n",
    "* Apply Max Pooling using `pool_ksize` and `pool_strides`.\n",
    " * We recommend you use same padding, but you're welcome to use any padding.\n",
    "\n",
    "**Note:** You **can't** use [TensorFlow Layers](https://www.tensorflow.org/api_docs/python/tf/layers) or [TensorFlow Layers (contrib)](https://www.tensorflow.org/api_guides/python/contrib.layers) for **this** layer, but you can still use TensorFlow's [Neural Network](https://www.tensorflow.org/api_docs/python/tf/nn) package. You may still use the shortcut option for all the **other** layers."
   ]
  },
  {
   "cell_type": "code",
   "execution_count": 147,
   "metadata": {
    "collapsed": false,
    "deletable": true,
    "editable": true
   },
   "outputs": [
    {
     "name": "stdout",
     "output_type": "stream",
     "text": [
      "Tests Passed\n"
     ]
    }
   ],
   "source": [
    "def conv2d_maxpool(x_tensor, conv_num_outputs, conv_ksize, conv_strides, pool_ksize, pool_strides):\n",
    "    \"\"\"\n",
    "    Apply convolution then max pooling to x_tensor\n",
    "    :param x_tensor: TensorFlow Tensor\n",
    "    :param conv_num_outputs: Number of outputs for the convolutional layer\n",
    "    :param conv_ksize: kernal size 2-D Tuple for the convolutional layer\n",
    "    :param conv_strides: Stride 2-D Tuple for convolution\n",
    "    :param pool_ksize: kernal size 2-D Tuple for pool\n",
    "    :param pool_strides: Stride 2-D Tuple for pool\n",
    "    : return: A tensor that represents convolution and max pooling of x_tensor\n",
    "    \"\"\"\n",
    "        \n",
    "    weight = tf.Variable(tf.truncated_normal(\n",
    "            [conv_ksize[0], conv_ksize[1], int(x_tensor.shape[3]), conv_num_outputs]))\n",
    "    \n",
    "    bias = tf.Variable(tf.zeros(conv_num_outputs))\n",
    "    \n",
    "    # Apply the convolution\n",
    "    conv_layer = tf.nn.conv2d(\n",
    "        x_tensor, \n",
    "        weight, \n",
    "        strides=[1, conv_strides[0], conv_strides[1], 1], \n",
    "        padding='SAME')\n",
    "    \n",
    "    # Add Bias\n",
    "    conv_layer = tf.nn.bias_add(conv_layer, bias)\n",
    "    \n",
    "    # Add nonlinear activation\n",
    "    conv_layer = tf.nn.relu(conv_layer)\n",
    "    \n",
    "    # Apply max pooling\n",
    "    conv_layer = tf.nn.max_pool(\n",
    "        conv_layer, \n",
    "        ksize=[1, pool_ksize[0], pool_ksize[1], 1],\n",
    "        strides=[1, pool_strides[0], pool_strides[1], 1], \n",
    "        padding='SAME')\n",
    "\n",
    "    return conv_layer\n",
    "\n",
    "\n",
    "\"\"\"\n",
    "DON'T MODIFY ANYTHING IN THIS CELL THAT IS BELOW THIS LINE\n",
    "\"\"\"\n",
    "tests.test_con_pool(conv2d_maxpool)"
   ]
  },
  {
   "cell_type": "markdown",
   "metadata": {
    "deletable": true,
    "editable": true
   },
   "source": [
    "### Flatten Layer\n",
    "Implement the `flatten` function to change the dimension of `x_tensor` from a 4-D tensor to a 2-D tensor.  The output should be the shape (*Batch Size*, *Flattened Image Size*). Shortcut option: you can use classes from the [TensorFlow Layers](https://www.tensorflow.org/api_docs/python/tf/layers) or [TensorFlow Layers (contrib)](https://www.tensorflow.org/api_guides/python/contrib.layers) packages for this layer. For more of a challenge, only use other TensorFlow packages."
   ]
  },
  {
   "cell_type": "code",
   "execution_count": 4,
   "metadata": {
    "collapsed": false,
    "deletable": true,
    "editable": true
   },
   "outputs": [
    {
     "name": "stdout",
     "output_type": "stream",
     "text": [
      "Tests Passed\n"
     ]
    }
   ],
   "source": [
    "def flatten(x_tensor):\n",
    "    \"\"\"\n",
    "    Flatten x_tensor to (Batch Size, Flattened Image Size)\n",
    "    : x_tensor: A tensor of size (Batch Size, ...), where ... are the image dimensions.\n",
    "    : return: A tensor of size (Batch Size, Flattened Image Size).\n",
    "    \"\"\"\n",
    "    img_height = int(x_tensor.shape[1])\n",
    "    img_weight = int(x_tensor.shape[2])\n",
    "    img_depth = int(x_tensor.shape[3])\n",
    "    return tf.reshape(x_tensor, [-1, img_height * img_weight * img_depth])\n",
    "\n",
    "\n",
    "\"\"\"\n",
    "DON'T MODIFY ANYTHING IN THIS CELL THAT IS BELOW THIS LINE\n",
    "\"\"\"\n",
    "tests.test_flatten(flatten)"
   ]
  },
  {
   "cell_type": "markdown",
   "metadata": {
    "deletable": true,
    "editable": true
   },
   "source": [
    "### Fully-Connected Layer\n",
    "Implement the `fully_conn` function to apply a fully connected layer to `x_tensor` with the shape (*Batch Size*, *num_outputs*). Shortcut option: you can use classes from the [TensorFlow Layers](https://www.tensorflow.org/api_docs/python/tf/layers) or [TensorFlow Layers (contrib)](https://www.tensorflow.org/api_guides/python/contrib.layers) packages for this layer. For more of a challenge, only use other TensorFlow packages."
   ]
  },
  {
   "cell_type": "code",
   "execution_count": 148,
   "metadata": {
    "collapsed": false,
    "deletable": true,
    "editable": true
   },
   "outputs": [
    {
     "name": "stdout",
     "output_type": "stream",
     "text": [
      "Tests Passed\n"
     ]
    }
   ],
   "source": [
    "def fully_conn(x_tensor, num_outputs):\n",
    "    \"\"\"\n",
    "    Apply a fully connected layer to x_tensor using weight and bias\n",
    "    : x_tensor: A 2-D tensor where the first dimension is batch size.\n",
    "    : num_outputs: The number of output that the new tensor should be.\n",
    "    : return: A 2-D tensor where the second dimension is num_outputs.\n",
    "    \"\"\"\n",
    "    return tf.contrib.layers.fully_connected(x_tensor, num_outputs, activation_fn=tf.nn.relu)\n",
    "\n",
    "\"\"\"\n",
    "DON'T MODIFY ANYTHING IN THIS CELL THAT IS BELOW THIS LINE\n",
    "\"\"\"\n",
    "tests.test_fully_conn(fully_conn)"
   ]
  },
  {
   "cell_type": "markdown",
   "metadata": {
    "deletable": true,
    "editable": true
   },
   "source": [
    "### Output Layer\n",
    "Implement the `output` function to apply a fully connected layer to `x_tensor` with the shape (*Batch Size*, *num_outputs*). Shortcut option: you can use classes from the [TensorFlow Layers](https://www.tensorflow.org/api_docs/python/tf/layers) or [TensorFlow Layers (contrib)](https://www.tensorflow.org/api_guides/python/contrib.layers) packages for this layer. For more of a challenge, only use other TensorFlow packages.\n",
    "\n",
    "**Note:** Activation, softmax, or cross entropy should **not** be applied to this."
   ]
  },
  {
   "cell_type": "code",
   "execution_count": 149,
   "metadata": {
    "collapsed": false,
    "deletable": true,
    "editable": true
   },
   "outputs": [
    {
     "name": "stdout",
     "output_type": "stream",
     "text": [
      "Tests Passed\n"
     ]
    }
   ],
   "source": [
    "def output(x_tensor, num_outputs):\n",
    "    \"\"\"\n",
    "    Apply a output layer to x_tensor using weight and bias\n",
    "    : x_tensor: A 2-D tensor where the first dimension is batch size.\n",
    "    : num_outputs: The number of output that the new tensor should be.\n",
    "    : return: A 2-D tensor where the second dimension is num_outputs.\n",
    "    \"\"\"\n",
    "    return tf.contrib.layers.fully_connected(x_tensor, num_outputs, activation_fn=None)\n",
    "\n",
    "\n",
    "\"\"\"\n",
    "DON'T MODIFY ANYTHING IN THIS CELL THAT IS BELOW THIS LINE\n",
    "\"\"\"\n",
    "tests.test_output(output)"
   ]
  },
  {
   "cell_type": "markdown",
   "metadata": {
    "deletable": true,
    "editable": true
   },
   "source": [
    "### Create Convolutional Model\n",
    "Implement the function `conv_net` to create a convolutional neural network model. The function takes in a batch of images, `x`, and outputs logits.  Use the layers you created above to create this model:\n",
    "\n",
    "* Apply 1, 2, or 3 Convolution and Max Pool layers\n",
    "* Apply a Flatten Layer\n",
    "* Apply 1, 2, or 3 Fully Connected Layers\n",
    "* Apply an Output Layer\n",
    "* Return the output\n",
    "* Apply [TensorFlow's Dropout](https://www.tensorflow.org/api_docs/python/tf/nn/dropout) to one or more layers in the model using `keep_prob`. "
   ]
  },
  {
   "cell_type": "code",
   "execution_count": 142,
   "metadata": {
    "collapsed": false,
    "deletable": true,
    "editable": true
   },
   "outputs": [
    {
     "name": "stdout",
     "output_type": "stream",
     "text": [
      "Neural Network Built!\n"
     ]
    }
   ],
   "source": [
    "def conv_net(x, keep_prob):\n",
    "    \"\"\"\n",
    "    Create a convolutional neural network model\n",
    "    : x: Placeholder tensor that holds image data.\n",
    "    : keep_prob: Placeholder tensor that hold dropout keep probability.\n",
    "    : return: Tensor that represents logits\n",
    "    \"\"\"\n",
    "    # Apply 1, 2, or 3 Convolution and Max Pool layers\n",
    "    #    Play around with different number of outputs, kernel size and stride\n",
    "    # Function Definition from Above:\n",
    "    #    conv2d_maxpool(x_tensor, conv_num_outputs, conv_ksize, conv_strides, pool_ksize, pool_strides)\n",
    "    \n",
    "    conv_layer = conv2d_maxpool(x, 32, (5,5), (2,2), (2,2), (1,1))\n",
    "    #conv_layer = tf.nn.dropout(conv_layer, keep_prob)\n",
    "\n",
    "    conv_layer = conv2d_maxpool(conv_layer, 32, (5,5), (1,1), (2,2), (1,1))\n",
    "    #conv_layer = tf.nn.dropout(conv_layer, keep_prob)\n",
    "\n",
    "    conv_layer = conv2d_maxpool(conv_layer, 64, (5,5), (1,1), (2,2), (1,1))\n",
    "    conv_layer = tf.nn.dropout(conv_layer, keep_prob)\n",
    "    \n",
    "    # Apply a Flatten Layer\n",
    "    # Function Definition from Above:\n",
    "    #   flatten(x_tensor)\n",
    "    conv_layer = flatten(conv_layer)\n",
    "\n",
    "    # Apply 1, 2, or 3 Fully Connected Layers\n",
    "    #    Play around with different number of outputs\n",
    "    # Function Definition from Above:\n",
    "    #   fully_conn(x_tensor, num_outputs)\n",
    "    full_conn_layer = fully_conn(conv_layer, 512)\n",
    "    #full_conn_layer = tf.nn.dropout(full_conn_layer, keep_prob)\n",
    "    \n",
    "    #full_conn_layer = fully_conn(full_conn_layer, 10)\n",
    "    #full_conn_layer = tf.nn.dropout(full_conn_layer, keep_prob)\n",
    "    \n",
    "    # Apply an Output Layer\n",
    "    #    Set this to the number of classes\n",
    "    # Function Definition from Above:\n",
    "    #   output(x_tensor, num_outputs)\n",
    "    output_layer = output(full_conn_layer, 10)\n",
    "    \n",
    "    \n",
    "    return output_layer\n",
    "\n",
    "\n",
    "\"\"\"\n",
    "DON'T MODIFY ANYTHING IN THIS CELL THAT IS BELOW THIS LINE\n",
    "\"\"\"\n",
    "\n",
    "##############################\n",
    "## Build the Neural Network ##\n",
    "##############################\n",
    "\n",
    "# Remove previous weights, bias, inputs, etc..\n",
    "tf.reset_default_graph()\n",
    "\n",
    "# Inputs\n",
    "x = neural_net_image_input((32, 32, 3))\n",
    "y = neural_net_label_input(10)\n",
    "keep_prob = neural_net_keep_prob_input()\n",
    "\n",
    "# Model\n",
    "logits = conv_net(x, keep_prob)\n",
    "\n",
    "# Name logits Tensor, so that is can be loaded from disk after training\n",
    "logits = tf.identity(logits, name='logits')\n",
    "\n",
    "# Loss and Optimizer\n",
    "cost = tf.reduce_mean(tf.nn.softmax_cross_entropy_with_logits(logits=logits, labels=y))\n",
    "optimizer = tf.train.AdamOptimizer().minimize(cost)\n",
    "\n",
    "# Accuracy\n",
    "correct_pred = tf.equal(tf.argmax(logits, 1), tf.argmax(y, 1))\n",
    "accuracy = tf.reduce_mean(tf.cast(correct_pred, tf.float32), name='accuracy')\n",
    "\n",
    "tests.test_conv_net(conv_net)"
   ]
  },
  {
   "cell_type": "markdown",
   "metadata": {
    "deletable": true,
    "editable": true
   },
   "source": [
    "## Train the Neural Network\n",
    "### Single Optimization\n",
    "Implement the function `train_neural_network` to do a single optimization.  The optimization should use `optimizer` to optimize in `session` with a `feed_dict` of the following:\n",
    "* `x` for image input\n",
    "* `y` for labels\n",
    "* `keep_prob` for keep probability for dropout\n",
    "\n",
    "This function will be called for each batch, so `tf.global_variables_initializer()` has already been called.\n",
    "\n",
    "Note: Nothing needs to be returned. This function is only optimizing the neural network."
   ]
  },
  {
   "cell_type": "code",
   "execution_count": 8,
   "metadata": {
    "collapsed": false,
    "deletable": true,
    "editable": true
   },
   "outputs": [
    {
     "name": "stdout",
     "output_type": "stream",
     "text": [
      "Tests Passed\n"
     ]
    }
   ],
   "source": [
    "def train_neural_network(session, optimizer, keep_probability, feature_batch, label_batch):\n",
    "    \"\"\"\n",
    "    Optimize the session on a batch of images and labels\n",
    "    : session: Current TensorFlow session\n",
    "    : optimizer: TensorFlow optimizer function\n",
    "    : keep_probability: keep probability\n",
    "    : feature_batch: Batch of Numpy image data\n",
    "    : label_batch: Batch of Numpy label data\n",
    "    \"\"\"\n",
    "    # TODO: Implement Function\n",
    "    session.run(optimizer, feed_dict={\n",
    "            x: feature_batch,\n",
    "            y: label_batch,\n",
    "            keep_prob: keep_probability\n",
    "        })\n",
    "\n",
    "\n",
    "\"\"\"\n",
    "DON'T MODIFY ANYTHING IN THIS CELL THAT IS BELOW THIS LINE\n",
    "\"\"\"\n",
    "tests.test_train_nn(train_neural_network)"
   ]
  },
  {
   "cell_type": "markdown",
   "metadata": {
    "deletable": true,
    "editable": true
   },
   "source": [
    "### Show Stats\n",
    "Implement the function `print_stats` to print loss and validation accuracy.  Use the global variables `valid_features` and `valid_labels` to calculate validation accuracy.  Use a keep probability of `1.0` to calculate the loss and validation accuracy."
   ]
  },
  {
   "cell_type": "code",
   "execution_count": 14,
   "metadata": {
    "collapsed": true,
    "deletable": true,
    "editable": true
   },
   "outputs": [],
   "source": [
    "def print_stats(session, feature_batch, label_batch, cost, accuracy):\n",
    "    \"\"\"\n",
    "    Print information about loss and validation accuracy\n",
    "    : session: Current TensorFlow session\n",
    "    : feature_batch: Batch of Numpy image data\n",
    "    : label_batch: Batch of Numpy label data\n",
    "    : cost: TensorFlow cost function\n",
    "    : accuracy: TensorFlow accuracy function\n",
    "    \"\"\"\n",
    "    loss = session.run(cost, feed_dict={\n",
    "                x: feature_batch,\n",
    "                y: label_batch,\n",
    "                keep_prob: 1.0\n",
    "        })\n",
    "    \n",
    "    val_acc = session.run(accuracy, feed_dict={\n",
    "                x: valid_features,\n",
    "                y: valid_labels,\n",
    "                keep_prob: 1.0\n",
    "        })\n",
    "    \n",
    "    print(\"Loss: {:<20}\".format(loss), \"Validation Accuracy: {}\".format(val_acc))"
   ]
  },
  {
   "cell_type": "markdown",
   "metadata": {
    "deletable": true,
    "editable": true
   },
   "source": [
    "### Hyperparameters\n",
    "Tune the following parameters:\n",
    "* Set `epochs` to the number of iterations until the network stops learning or start overfitting\n",
    "* Set `batch_size` to the highest number that your machine has memory for.  Most people set them to common sizes of memory:\n",
    " * 64\n",
    " * 128\n",
    " * 256\n",
    " * ...\n",
    "* Set `keep_probability` to the probability of keeping a node using dropout"
   ]
  },
  {
   "cell_type": "code",
   "execution_count": 158,
   "metadata": {
    "collapsed": true,
    "deletable": true,
    "editable": true
   },
   "outputs": [],
   "source": [
    "# TODO: Tune Parameters\n",
    "epochs = 30\n",
    "batch_size = 512\n",
    "keep_probability = 0.5"
   ]
  },
  {
   "cell_type": "markdown",
   "metadata": {
    "deletable": true,
    "editable": true
   },
   "source": [
    "### Train on a Single CIFAR-10 Batch\n",
    "Instead of training the neural network on all the CIFAR-10 batches of data, let's use a single batch. This should save time while you iterate on the model to get a better accuracy.  Once the final validation accuracy is 50% or greater, run the model on all the data in the next section."
   ]
  },
  {
   "cell_type": "code",
   "execution_count": 159,
   "metadata": {
    "collapsed": false,
    "deletable": true,
    "editable": true,
    "scrolled": false
   },
   "outputs": [
    {
     "name": "stdout",
     "output_type": "stream",
     "text": [
      "Checking the Training on a Single Batch...\n",
      "Epoch  1, CIFAR-10 Batch 1:  Loss: 2.288466691970825    Validation Accuracy: 0.10279999673366547\n",
      "Epoch  2, CIFAR-10 Batch 1:  Loss: 2.2422990798950195   Validation Accuracy: 0.1809999942779541\n",
      "Epoch  3, CIFAR-10 Batch 1:  Loss: 2.1882057189941406   Validation Accuracy: 0.23159998655319214\n",
      "Epoch  4, CIFAR-10 Batch 1:  Loss: 2.14155650138855     Validation Accuracy: 0.2521999776363373\n",
      "Epoch  5, CIFAR-10 Batch 1:  Loss: 2.03665828704834     Validation Accuracy: 0.2946000099182129\n",
      "Epoch  6, CIFAR-10 Batch 1:  Loss: 1.9679605960845947   Validation Accuracy: 0.3465999960899353\n",
      "Epoch  7, CIFAR-10 Batch 1:  Loss: 1.9263253211975098   Validation Accuracy: 0.37359997630119324\n",
      "Epoch  8, CIFAR-10 Batch 1:  Loss: 1.8500562906265259   Validation Accuracy: 0.3905999958515167\n",
      "Epoch  9, CIFAR-10 Batch 1:  Loss: 1.8265964984893799   Validation Accuracy: 0.3937999904155731\n",
      "Epoch 10, CIFAR-10 Batch 1:  Loss: 1.881304144859314    Validation Accuracy: 0.38159996271133423\n",
      "Epoch 11, CIFAR-10 Batch 1:  Loss: 1.8039766550064087   Validation Accuracy: 0.4179999828338623\n",
      "Epoch 12, CIFAR-10 Batch 1:  Loss: 1.7784582376480103   Validation Accuracy: 0.4283999800682068\n",
      "Epoch 13, CIFAR-10 Batch 1:  Loss: 1.714866280555725    Validation Accuracy: 0.4315999746322632\n",
      "Epoch 14, CIFAR-10 Batch 1:  Loss: 1.6913385391235352   Validation Accuracy: 0.43199995160102844\n",
      "Epoch 15, CIFAR-10 Batch 1:  Loss: 1.5626709461212158   Validation Accuracy: 0.4551999866962433\n",
      "Epoch 16, CIFAR-10 Batch 1:  Loss: 1.4852681159973145   Validation Accuracy: 0.4689999520778656\n",
      "Epoch 17, CIFAR-10 Batch 1:  Loss: 1.4275002479553223   Validation Accuracy: 0.48799997568130493\n",
      "Epoch 18, CIFAR-10 Batch 1:  Loss: 1.3839977979660034   Validation Accuracy: 0.49879997968673706\n",
      "Epoch 19, CIFAR-10 Batch 1:  Loss: 1.344219446182251    Validation Accuracy: 0.5123999714851379\n",
      "Epoch 20, CIFAR-10 Batch 1:  Loss: 1.3279173374176025   Validation Accuracy: 0.5037999153137207\n",
      "Epoch 21, CIFAR-10 Batch 1:  Loss: 1.3521623611450195   Validation Accuracy: 0.4925999343395233\n",
      "Epoch 22, CIFAR-10 Batch 1:  Loss: 1.2406338453292847   Validation Accuracy: 0.5233998894691467\n",
      "Epoch 23, CIFAR-10 Batch 1:  Loss: 1.2129881381988525   Validation Accuracy: 0.5137999057769775\n",
      "Epoch 24, CIFAR-10 Batch 1:  Loss: 1.130372166633606    Validation Accuracy: 0.5239999294281006\n",
      "Epoch 25, CIFAR-10 Batch 1:  Loss: 1.1120059490203857   Validation Accuracy: 0.5081999897956848\n",
      "Epoch 26, CIFAR-10 Batch 1:  Loss: 1.060038685798645    Validation Accuracy: 0.5315999388694763\n",
      "Epoch 27, CIFAR-10 Batch 1:  Loss: 1.010839581489563    Validation Accuracy: 0.5249999165534973\n",
      "Epoch 28, CIFAR-10 Batch 1:  Loss: 0.9727170467376709   Validation Accuracy: 0.5231999158859253\n",
      "Epoch 29, CIFAR-10 Batch 1:  Loss: 0.9409597516059875   Validation Accuracy: 0.5230000019073486\n",
      "Epoch 30, CIFAR-10 Batch 1:  Loss: 0.919283926486969    Validation Accuracy: 0.524399995803833\n"
     ]
    }
   ],
   "source": [
    "\"\"\"\n",
    "DON'T MODIFY ANYTHING IN THIS CELL\n",
    "\"\"\"\n",
    "print('Checking the Training on a Single Batch...')\n",
    "with tf.Session() as sess:\n",
    "    # Initializing the variables\n",
    "    sess.run(tf.global_variables_initializer())\n",
    "    \n",
    "    # Training cycle\n",
    "    for epoch in range(epochs):\n",
    "        \n",
    "        batch_i = 1\n",
    "        for batch_features, batch_labels in helper.load_preprocess_training_batch(batch_i, batch_size):\n",
    "            train_neural_network(sess, optimizer, keep_probability, batch_features, batch_labels)\n",
    "        print('Epoch {:>2}, CIFAR-10 Batch {}:  '.format(epoch + 1, batch_i), end='')\n",
    "        print_stats(sess, batch_features, batch_labels, cost, accuracy)"
   ]
  },
  {
   "cell_type": "markdown",
   "metadata": {
    "deletable": true,
    "editable": true
   },
   "source": [
    "### Fully Train the Model\n",
    "Now that you got a good accuracy with a single CIFAR-10 batch, try it with all five batches."
   ]
  },
  {
   "cell_type": "code",
   "execution_count": 160,
   "metadata": {
    "collapsed": false,
    "deletable": true,
    "editable": true,
    "scrolled": false
   },
   "outputs": [
    {
     "name": "stdout",
     "output_type": "stream",
     "text": [
      "Training...\n",
      "Epoch  1, CIFAR-10 Batch 1:  Loss: 2.213470220565796    Validation Accuracy: 0.21119996905326843\n",
      "Epoch  1, CIFAR-10 Batch 2:  Loss: 2.136317253112793    Validation Accuracy: 0.25359997153282166\n",
      "Epoch  1, CIFAR-10 Batch 3:  Loss: 2.1466124057769775   Validation Accuracy: 0.2613999843597412\n",
      "Epoch  1, CIFAR-10 Batch 4:  Loss: 2.07678484916687     Validation Accuracy: 0.2537999749183655\n",
      "Epoch  1, CIFAR-10 Batch 5:  Loss: 1.9894249439239502   Validation Accuracy: 0.29899996519088745\n",
      "Epoch  2, CIFAR-10 Batch 1:  Loss: 2.1134579181671143   Validation Accuracy: 0.29120001196861267\n",
      "Epoch  2, CIFAR-10 Batch 2:  Loss: 1.9982945919036865   Validation Accuracy: 0.311599999666214\n",
      "Epoch  2, CIFAR-10 Batch 3:  Loss: 2.053837537765503    Validation Accuracy: 0.30299997329711914\n",
      "Epoch  2, CIFAR-10 Batch 4:  Loss: 1.9613957405090332   Validation Accuracy: 0.3091999888420105\n",
      "Epoch  2, CIFAR-10 Batch 5:  Loss: 1.8832738399505615   Validation Accuracy: 0.34140002727508545\n",
      "Epoch  3, CIFAR-10 Batch 1:  Loss: 1.993133306503296    Validation Accuracy: 0.31459999084472656\n",
      "Epoch  3, CIFAR-10 Batch 2:  Loss: 1.8707438707351685   Validation Accuracy: 0.32839998602867126\n",
      "Epoch  3, CIFAR-10 Batch 3:  Loss: 1.9408198595046997   Validation Accuracy: 0.34219998121261597\n",
      "Epoch  3, CIFAR-10 Batch 4:  Loss: 1.819434642791748    Validation Accuracy: 0.35319995880126953\n",
      "Epoch  3, CIFAR-10 Batch 5:  Loss: 1.8191378116607666   Validation Accuracy: 0.3523999750614166\n",
      "Epoch  4, CIFAR-10 Batch 1:  Loss: 1.906128168106079    Validation Accuracy: 0.35899999737739563\n",
      "Epoch  4, CIFAR-10 Batch 2:  Loss: 1.8070712089538574   Validation Accuracy: 0.352400004863739\n",
      "Epoch  4, CIFAR-10 Batch 3:  Loss: 1.8871650695800781   Validation Accuracy: 0.3587999939918518\n",
      "Epoch  4, CIFAR-10 Batch 4:  Loss: 1.7746882438659668   Validation Accuracy: 0.368399977684021\n",
      "Epoch  4, CIFAR-10 Batch 5:  Loss: 1.747753381729126    Validation Accuracy: 0.3598000109195709\n",
      "Epoch  5, CIFAR-10 Batch 1:  Loss: 1.859001636505127    Validation Accuracy: 0.3651999831199646\n",
      "Epoch  5, CIFAR-10 Batch 2:  Loss: 1.775815486907959    Validation Accuracy: 0.3627999722957611\n",
      "Epoch  5, CIFAR-10 Batch 3:  Loss: 1.8421025276184082   Validation Accuracy: 0.368399977684021\n",
      "Epoch  5, CIFAR-10 Batch 4:  Loss: 1.7562593221664429   Validation Accuracy: 0.3723999857902527\n",
      "Epoch  5, CIFAR-10 Batch 5:  Loss: 1.7141592502593994   Validation Accuracy: 0.3831999897956848\n",
      "Epoch  6, CIFAR-10 Batch 1:  Loss: 1.7905619144439697   Validation Accuracy: 0.41099995374679565\n",
      "Epoch  6, CIFAR-10 Batch 2:  Loss: 1.655975341796875    Validation Accuracy: 0.4179999828338623\n",
      "Epoch  6, CIFAR-10 Batch 3:  Loss: 1.7057371139526367   Validation Accuracy: 0.4213999807834625\n",
      "Epoch  6, CIFAR-10 Batch 4:  Loss: 1.5858566761016846   Validation Accuracy: 0.4257999658584595\n",
      "Epoch  6, CIFAR-10 Batch 5:  Loss: 1.5586611032485962   Validation Accuracy: 0.4259999692440033\n",
      "Epoch  7, CIFAR-10 Batch 1:  Loss: 1.70609712600708     Validation Accuracy: 0.42239993810653687\n",
      "Epoch  7, CIFAR-10 Batch 2:  Loss: 1.619288682937622    Validation Accuracy: 0.4129999876022339\n",
      "Epoch  7, CIFAR-10 Batch 3:  Loss: 1.6469011306762695   Validation Accuracy: 0.42639997601509094\n",
      "Epoch  7, CIFAR-10 Batch 4:  Loss: 1.5453543663024902   Validation Accuracy: 0.4369999170303345\n",
      "Epoch  7, CIFAR-10 Batch 5:  Loss: 1.528489589691162    Validation Accuracy: 0.42799997329711914\n",
      "Epoch  8, CIFAR-10 Batch 1:  Loss: 1.6517729759216309   Validation Accuracy: 0.44179996848106384\n",
      "Epoch  8, CIFAR-10 Batch 2:  Loss: 1.5500948429107666   Validation Accuracy: 0.4355999827384949\n",
      "Epoch  8, CIFAR-10 Batch 3:  Loss: 1.599555492401123    Validation Accuracy: 0.4391999840736389\n",
      "Epoch  8, CIFAR-10 Batch 4:  Loss: 1.4827409982681274   Validation Accuracy: 0.44259995222091675\n",
      "Epoch  8, CIFAR-10 Batch 5:  Loss: 1.4175703525543213   Validation Accuracy: 0.44839996099472046\n",
      "Epoch  9, CIFAR-10 Batch 1:  Loss: 1.601215124130249    Validation Accuracy: 0.4477999806404114\n",
      "Epoch  9, CIFAR-10 Batch 2:  Loss: 1.4479784965515137   Validation Accuracy: 0.4554000198841095\n",
      "Epoch  9, CIFAR-10 Batch 3:  Loss: 1.5095224380493164   Validation Accuracy: 0.4665999710559845\n",
      "Epoch  9, CIFAR-10 Batch 4:  Loss: 1.3931018114089966   Validation Accuracy: 0.4649999737739563\n",
      "Epoch  9, CIFAR-10 Batch 5:  Loss: 1.3172787427902222   Validation Accuracy: 0.4713999629020691\n",
      "Epoch 10, CIFAR-10 Batch 1:  Loss: 1.4867762327194214   Validation Accuracy: 0.48239997029304504\n",
      "Epoch 10, CIFAR-10 Batch 2:  Loss: 1.3595287799835205   Validation Accuracy: 0.4867999255657196\n",
      "Epoch 10, CIFAR-10 Batch 3:  Loss: 1.407304286956787    Validation Accuracy: 0.48259997367858887\n",
      "Epoch 10, CIFAR-10 Batch 4:  Loss: 1.324898600578308    Validation Accuracy: 0.47499996423721313\n",
      "Epoch 10, CIFAR-10 Batch 5:  Loss: 1.1919276714324951   Validation Accuracy: 0.4949999749660492\n",
      "Epoch 11, CIFAR-10 Batch 1:  Loss: 1.4075965881347656   Validation Accuracy: 0.4925999641418457\n",
      "Epoch 11, CIFAR-10 Batch 2:  Loss: 1.3040649890899658   Validation Accuracy: 0.4949999451637268\n",
      "Epoch 11, CIFAR-10 Batch 3:  Loss: 1.3802796602249146   Validation Accuracy: 0.4893999695777893\n",
      "Epoch 11, CIFAR-10 Batch 4:  Loss: 1.2567517757415771   Validation Accuracy: 0.48079997301101685\n",
      "Epoch 11, CIFAR-10 Batch 5:  Loss: 1.134198784828186    Validation Accuracy: 0.5011999607086182\n",
      "Epoch 12, CIFAR-10 Batch 1:  Loss: 1.3149462938308716   Validation Accuracy: 0.49199995398521423\n",
      "Epoch 12, CIFAR-10 Batch 2:  Loss: 1.2609522342681885   Validation Accuracy: 0.5035999417304993\n",
      "Epoch 12, CIFAR-10 Batch 3:  Loss: 1.308481216430664    Validation Accuracy: 0.4987999200820923\n",
      "Epoch 12, CIFAR-10 Batch 4:  Loss: 1.1705348491668701   Validation Accuracy: 0.5059999227523804\n",
      "Epoch 12, CIFAR-10 Batch 5:  Loss: 1.1073079109191895   Validation Accuracy: 0.5029999613761902\n",
      "Epoch 13, CIFAR-10 Batch 1:  Loss: 1.2741291522979736   Validation Accuracy: 0.4975999593734741\n",
      "Epoch 13, CIFAR-10 Batch 2:  Loss: 1.1840205192565918   Validation Accuracy: 0.5125999450683594\n",
      "Epoch 13, CIFAR-10 Batch 3:  Loss: 1.2810311317443848   Validation Accuracy: 0.4885999858379364\n",
      "Epoch 13, CIFAR-10 Batch 4:  Loss: 1.1545195579528809   Validation Accuracy: 0.49279993772506714\n",
      "Epoch 13, CIFAR-10 Batch 5:  Loss: 1.0494778156280518   Validation Accuracy: 0.507599949836731\n",
      "Epoch 14, CIFAR-10 Batch 1:  Loss: 1.2235482931137085   Validation Accuracy: 0.507599949836731\n",
      "Epoch 14, CIFAR-10 Batch 2:  Loss: 1.1608994007110596   Validation Accuracy: 0.5049999356269836\n",
      "Epoch 14, CIFAR-10 Batch 3:  Loss: 1.22938871383667     Validation Accuracy: 0.49799996614456177\n",
      "Epoch 14, CIFAR-10 Batch 4:  Loss: 1.1400066614151      Validation Accuracy: 0.5043999552726746\n",
      "Epoch 14, CIFAR-10 Batch 5:  Loss: 1.0540660619735718   Validation Accuracy: 0.4997999370098114\n",
      "Epoch 15, CIFAR-10 Batch 1:  Loss: 1.1973003149032593   Validation Accuracy: 0.506399929523468\n",
      "Epoch 15, CIFAR-10 Batch 2:  Loss: 1.1213370561599731   Validation Accuracy: 0.5019999742507935\n",
      "Epoch 15, CIFAR-10 Batch 3:  Loss: 1.1913120746612549   Validation Accuracy: 0.507599949836731\n",
      "Epoch 15, CIFAR-10 Batch 4:  Loss: 1.1581969261169434   Validation Accuracy: 0.49039995670318604\n",
      "Epoch 15, CIFAR-10 Batch 5:  Loss: 1.0030632019042969   Validation Accuracy: 0.5073999762535095\n",
      "Epoch 16, CIFAR-10 Batch 1:  Loss: 1.1667890548706055   Validation Accuracy: 0.48959994316101074\n",
      "Epoch 16, CIFAR-10 Batch 2:  Loss: 1.068954348564148    Validation Accuracy: 0.5081999897956848\n",
      "Epoch 16, CIFAR-10 Batch 3:  Loss: 1.1661584377288818   Validation Accuracy: 0.5073999166488647\n",
      "Epoch 16, CIFAR-10 Batch 4:  Loss: 1.1041905879974365   Validation Accuracy: 0.5029999613761902\n",
      "Epoch 16, CIFAR-10 Batch 5:  Loss: 0.9723185300827026   Validation Accuracy: 0.5055999159812927\n",
      "Epoch 17, CIFAR-10 Batch 1:  Loss: 1.1375131607055664   Validation Accuracy: 0.4777999520301819\n",
      "Epoch 17, CIFAR-10 Batch 2:  Loss: 1.062412977218628    Validation Accuracy: 0.5055999755859375\n",
      "Epoch 17, CIFAR-10 Batch 3:  Loss: 1.128401756286621    Validation Accuracy: 0.5019999146461487\n",
      "Epoch 17, CIFAR-10 Batch 4:  Loss: 1.0331394672393799   Validation Accuracy: 0.5101999640464783\n",
      "Epoch 17, CIFAR-10 Batch 5:  Loss: 0.8867132067680359   Validation Accuracy: 0.5149999260902405\n",
      "Epoch 18, CIFAR-10 Batch 1:  Loss: 1.079480528831482    Validation Accuracy: 0.49939993023872375\n",
      "Epoch 18, CIFAR-10 Batch 2:  Loss: 0.9827008843421936   Validation Accuracy: 0.5137999653816223\n",
      "Epoch 18, CIFAR-10 Batch 3:  Loss: 1.141492247581482    Validation Accuracy: 0.5023999810218811\n",
      "Epoch 18, CIFAR-10 Batch 4:  Loss: 1.0063666105270386   Validation Accuracy: 0.5031999349594116\n",
      "Epoch 18, CIFAR-10 Batch 5:  Loss: 0.8917042016983032   Validation Accuracy: 0.5069999694824219\n",
      "Epoch 19, CIFAR-10 Batch 1:  Loss: 1.0209646224975586   Validation Accuracy: 0.4949999451637268\n",
      "Epoch 19, CIFAR-10 Batch 2:  Loss: 0.966522753238678    Validation Accuracy: 0.5125999450683594\n",
      "Epoch 19, CIFAR-10 Batch 3:  Loss: 1.0907195806503296   Validation Accuracy: 0.5031999945640564\n",
      "Epoch 19, CIFAR-10 Batch 4:  Loss: 0.9682173728942871   Validation Accuracy: 0.49639996886253357\n",
      "Epoch 19, CIFAR-10 Batch 5:  Loss: 0.8615425825119019   Validation Accuracy: 0.5107999444007874\n",
      "Epoch 20, CIFAR-10 Batch 1:  Loss: 0.9891839027404785   Validation Accuracy: 0.4901999235153198\n",
      "Epoch 20, CIFAR-10 Batch 2:  Loss: 0.9881227016448975   Validation Accuracy: 0.49059998989105225\n",
      "Epoch 20, CIFAR-10 Batch 3:  Loss: 1.0526283979415894   Validation Accuracy: 0.5017999410629272\n",
      "Epoch 20, CIFAR-10 Batch 4:  Loss: 0.9593832492828369   Validation Accuracy: 0.4909999668598175\n",
      "Epoch 20, CIFAR-10 Batch 5:  Loss: 0.8541132211685181   Validation Accuracy: 0.5113999247550964\n",
      "Epoch 21, CIFAR-10 Batch 1:  Loss: 0.957966685295105    Validation Accuracy: 0.491599977016449\n",
      "Epoch 21, CIFAR-10 Batch 2:  Loss: 0.975806713104248    Validation Accuracy: 0.4931999444961548\n",
      "Epoch 21, CIFAR-10 Batch 3:  Loss: 1.023388385772705    Validation Accuracy: 0.49459993839263916\n",
      "Epoch 21, CIFAR-10 Batch 4:  Loss: 0.9257926344871521   Validation Accuracy: 0.49279993772506714\n",
      "Epoch 21, CIFAR-10 Batch 5:  Loss: 0.8478655219078064   Validation Accuracy: 0.5051999092102051\n",
      "Epoch 22, CIFAR-10 Batch 1:  Loss: 0.9242424964904785   Validation Accuracy: 0.49639996886253357\n",
      "Epoch 22, CIFAR-10 Batch 2:  Loss: 0.8921584486961365   Validation Accuracy: 0.49859991669654846\n",
      "Epoch 22, CIFAR-10 Batch 3:  Loss: 0.9641616940498352   Validation Accuracy: 0.5061999559402466\n",
      "Epoch 22, CIFAR-10 Batch 4:  Loss: 0.8999411463737488   Validation Accuracy: 0.48319998383522034\n",
      "Epoch 22, CIFAR-10 Batch 5:  Loss: 0.8366299867630005   Validation Accuracy: 0.5083999633789062\n",
      "Epoch 23, CIFAR-10 Batch 1:  Loss: 0.9023555517196655   Validation Accuracy: 0.49199995398521423\n",
      "Epoch 23, CIFAR-10 Batch 2:  Loss: 0.8551924228668213   Validation Accuracy: 0.501599907875061\n",
      "Epoch 23, CIFAR-10 Batch 3:  Loss: 0.9627912640571594   Validation Accuracy: 0.4983999729156494\n",
      "Epoch 23, CIFAR-10 Batch 4:  Loss: 0.8608102798461914   Validation Accuracy: 0.4943999648094177\n",
      "Epoch 23, CIFAR-10 Batch 5:  Loss: 0.8279467225074768   Validation Accuracy: 0.5040000081062317\n",
      "Epoch 24, CIFAR-10 Batch 1:  Loss: 0.8831734657287598   Validation Accuracy: 0.48379993438720703\n",
      "Epoch 24, CIFAR-10 Batch 2:  Loss: 0.8416112661361694   Validation Accuracy: 0.4941999316215515\n",
      "Epoch 24, CIFAR-10 Batch 3:  Loss: 0.9389612674713135   Validation Accuracy: 0.5008000135421753\n",
      "Epoch 24, CIFAR-10 Batch 4:  Loss: 0.8122518062591553   Validation Accuracy: 0.5167999267578125\n",
      "Epoch 24, CIFAR-10 Batch 5:  Loss: 0.7583609819412231   Validation Accuracy: 0.5413999557495117\n",
      "Epoch 25, CIFAR-10 Batch 1:  Loss: 0.7212409377098083   Validation Accuracy: 0.545799970626831\n",
      "Epoch 25, CIFAR-10 Batch 2:  Loss: 0.733237624168396    Validation Accuracy: 0.5633999109268188\n",
      "Epoch 25, CIFAR-10 Batch 3:  Loss: 0.8167701363563538   Validation Accuracy: 0.559999942779541\n",
      "Epoch 25, CIFAR-10 Batch 4:  Loss: 0.7301226854324341   Validation Accuracy: 0.5631999373435974\n",
      "Epoch 25, CIFAR-10 Batch 5:  Loss: 0.7108350396156311   Validation Accuracy: 0.5429999232292175\n",
      "Epoch 26, CIFAR-10 Batch 1:  Loss: 0.7111054062843323   Validation Accuracy: 0.5427999496459961\n",
      "Epoch 26, CIFAR-10 Batch 2:  Loss: 0.6947180032730103   Validation Accuracy: 0.5527999401092529\n",
      "Epoch 26, CIFAR-10 Batch 3:  Loss: 0.7975397109985352   Validation Accuracy: 0.5635998845100403\n",
      "Epoch 26, CIFAR-10 Batch 4:  Loss: 0.7197880744934082   Validation Accuracy: 0.5591999292373657\n",
      "Epoch 26, CIFAR-10 Batch 5:  Loss: 0.644769549369812    Validation Accuracy: 0.5591999292373657\n",
      "Epoch 27, CIFAR-10 Batch 1:  Loss: 0.7143752574920654   Validation Accuracy: 0.5521999597549438\n",
      "Epoch 27, CIFAR-10 Batch 2:  Loss: 0.6684606671333313   Validation Accuracy: 0.5555999279022217\n",
      "Epoch 27, CIFAR-10 Batch 3:  Loss: 0.7690747380256653   Validation Accuracy: 0.5671998858451843\n",
      "Epoch 27, CIFAR-10 Batch 4:  Loss: 0.695687472820282    Validation Accuracy: 0.5559999346733093\n",
      "Epoch 27, CIFAR-10 Batch 5:  Loss: 0.6292751431465149   Validation Accuracy: 0.5653999447822571\n",
      "Epoch 28, CIFAR-10 Batch 1:  Loss: 0.6606053113937378   Validation Accuracy: 0.5615999102592468\n",
      "Epoch 28, CIFAR-10 Batch 2:  Loss: 0.6187776327133179   Validation Accuracy: 0.5749999284744263\n",
      "Epoch 28, CIFAR-10 Batch 3:  Loss: 0.7123841047286987   Validation Accuracy: 0.5753998756408691\n",
      "Epoch 28, CIFAR-10 Batch 4:  Loss: 0.6879273653030396   Validation Accuracy: 0.546799898147583\n",
      "Epoch 28, CIFAR-10 Batch 5:  Loss: 0.5765612125396729   Validation Accuracy: 0.569399893283844\n",
      "Epoch 29, CIFAR-10 Batch 1:  Loss: 0.6185834407806396   Validation Accuracy: 0.5691999197006226\n",
      "Epoch 29, CIFAR-10 Batch 2:  Loss: 0.6069899201393127   Validation Accuracy: 0.5749999284744263\n",
      "Epoch 29, CIFAR-10 Batch 3:  Loss: 0.7073049545288086   Validation Accuracy: 0.5627999305725098\n",
      "Epoch 29, CIFAR-10 Batch 4:  Loss: 0.6243127584457397   Validation Accuracy: 0.5591999292373657\n",
      "Epoch 29, CIFAR-10 Batch 5:  Loss: 0.5835913419723511   Validation Accuracy: 0.5575999021530151\n",
      "Epoch 30, CIFAR-10 Batch 1:  Loss: 0.609820544719696    Validation Accuracy: 0.5661998987197876\n",
      "Epoch 30, CIFAR-10 Batch 2:  Loss: 0.5996545553207397   Validation Accuracy: 0.5689998865127563\n",
      "Epoch 30, CIFAR-10 Batch 3:  Loss: 0.6934017539024353   Validation Accuracy: 0.5603999495506287\n",
      "Epoch 30, CIFAR-10 Batch 4:  Loss: 0.6113492846488953   Validation Accuracy: 0.5701999068260193\n",
      "Epoch 30, CIFAR-10 Batch 5:  Loss: 0.5918321013450623   Validation Accuracy: 0.546999990940094\n"
     ]
    }
   ],
   "source": [
    "\"\"\"\n",
    "DON'T MODIFY ANYTHING IN THIS CELL\n",
    "\"\"\"\n",
    "save_model_path = './image_classification'\n",
    "\n",
    "print('Training...')\n",
    "with tf.Session() as sess:\n",
    "    # Initializing the variables\n",
    "    sess.run(tf.global_variables_initializer())\n",
    "    \n",
    "    # Training cycle\n",
    "    for epoch in range(epochs):\n",
    "        # Loop over all batches\n",
    "        n_batches = 5\n",
    "        for batch_i in range(1, n_batches + 1):\n",
    "            for batch_features, batch_labels in helper.load_preprocess_training_batch(batch_i, batch_size):\n",
    "                train_neural_network(sess, optimizer, keep_probability, batch_features, batch_labels)\n",
    "            print('Epoch {:>2}, CIFAR-10 Batch {}:  '.format(epoch + 1, batch_i), end='')\n",
    "            print_stats(sess, batch_features, batch_labels, cost, accuracy)\n",
    "            \n",
    "    # Save Model\n",
    "    saver = tf.train.Saver()\n",
    "    save_path = saver.save(sess, save_model_path)"
   ]
  },
  {
   "cell_type": "markdown",
   "metadata": {
    "deletable": true,
    "editable": true
   },
   "source": [
    "# Checkpoint\n",
    "The model has been saved to disk.\n",
    "## Test Model\n",
    "Test your model against the test dataset.  This will be your final accuracy. You should have an accuracy greater than 50%. If you don't, keep tweaking the model architecture and parameters."
   ]
  },
  {
   "cell_type": "code",
   "execution_count": 161,
   "metadata": {
    "collapsed": false,
    "deletable": true,
    "editable": true
   },
   "outputs": [
    {
     "name": "stdout",
     "output_type": "stream",
     "text": [
      "Testing Accuracy: 0.5393095135688781\n",
      "\n"
     ]
    },
    {
     "data": {
      "image/png": "[encoded data removed]",
      "text/plain": [
       "<matplotlib.figure.Figure at 0x7f7c44132c50>"
      ]
     },
     "metadata": {
      "image/png": {
       "height": 319,
       "width": 355
      }
     },
     "output_type": "display_data"
    }
   ],
   "source": [
    "\"\"\"\n",
    "DON'T MODIFY ANYTHING IN THIS CELL\n",
    "\"\"\"\n",
    "%matplotlib inline\n",
    "%config InlineBackend.figure_format = 'retina'\n",
    "\n",
    "import tensorflow as tf\n",
    "import pickle\n",
    "import helper\n",
    "import random\n",
    "\n",
    "# Set batch size if not already set\n",
    "try:\n",
    "    if batch_size:\n",
    "        pass\n",
    "except NameError:\n",
    "    batch_size = 64\n",
    "\n",
    "save_model_path = './image_classification'\n",
    "n_samples = 4\n",
    "top_n_predictions = 3\n",
    "\n",
    "def test_model():\n",
    "    \"\"\"\n",
    "    Test the saved model against the test dataset\n",
    "    \"\"\"\n",
    "\n",
    "    test_features, test_labels = pickle.load(open('preprocess_test.p', mode='rb'))\n",
    "    loaded_graph = tf.Graph()\n",
    "\n",
    "    with tf.Session(graph=loaded_graph) as sess:\n",
    "        # Load model\n",
    "        loader = tf.train.import_meta_graph(save_model_path + '.meta')\n",
    "        loader.restore(sess, save_model_path)\n",
    "\n",
    "        # Get Tensors from loaded model\n",
    "        loaded_x = loaded_graph.get_tensor_by_name('x:0')\n",
    "        loaded_y = loaded_graph.get_tensor_by_name('y:0')\n",
    "        loaded_keep_prob = loaded_graph.get_tensor_by_name('keep_prob:0')\n",
    "        loaded_logits = loaded_graph.get_tensor_by_name('logits:0')\n",
    "        loaded_acc = loaded_graph.get_tensor_by_name('accuracy:0')\n",
    "        \n",
    "        # Get accuracy in batches for memory limitations\n",
    "        test_batch_acc_total = 0\n",
    "        test_batch_count = 0\n",
    "        \n",
    "        for test_feature_batch, test_label_batch in helper.batch_features_labels(test_features, test_labels, batch_size):\n",
    "            test_batch_acc_total += sess.run(\n",
    "                loaded_acc,\n",
    "                feed_dict={loaded_x: test_feature_batch, loaded_y: test_label_batch, loaded_keep_prob: 1.0})\n",
    "            test_batch_count += 1\n",
    "\n",
    "        print('Testing Accuracy: {}\\n'.format(test_batch_acc_total/test_batch_count))\n",
    "\n",
    "        # Print Random Samples\n",
    "        random_test_features, random_test_labels = tuple(zip(*random.sample(list(zip(test_features, test_labels)), n_samples)))\n",
    "        random_test_predictions = sess.run(\n",
    "            tf.nn.top_k(tf.nn.softmax(loaded_logits), top_n_predictions),\n",
    "            feed_dict={loaded_x: random_test_features, loaded_y: random_test_labels, loaded_keep_prob: 1.0})\n",
    "        helper.display_image_predictions(random_test_features, random_test_labels, random_test_predictions)\n",
    "\n",
    "\n",
    "test_model()"
   ]
  },
  {
   "cell_type": "markdown",
   "metadata": {
    "deletable": true,
    "editable": true
   },
   "source": [
    "## Why 50-80% Accuracy?\n",
    "You might be wondering why you can't get an accuracy any higher. First things first, 50% isn't bad for a simple CNN.  Pure guessing would get you 10% accuracy. However, you might notice people are getting scores [well above 80%](http://rodrigob.github.io/are_we_there_yet/build/classification_datasets_results.html#43494641522d3130).  That's because we haven't taught you all there is to know about neural networks. We still need to cover a few more techniques.\n",
    "## Submitting This Project\n",
    "When submitting this project, make sure to run all the cells before saving the notebook.  Save the notebook file as \"dlnd_image_classification.ipynb\" and save it as a HTML file under \"File\" -> \"Download as\".  Include the \"helper.py\" and \"problem_unittests.py\" files in your submission."
   ]
  }
 ],
 "metadata": {
  "kernelspec": {
   "display_name": "Python 3",
   "language": "python",
   "name": "python3"
  },
  "language_info": {
   "codemirror_mode": {
    "name": "ipython",
    "version": 3
   },
   "file_extension": ".py",
   "mimetype": "text/x-python",
   "name": "python",
   "nbconvert_exporter": "python",
   "pygments_lexer": "ipython3",
   "version": "3.5.2"
  },
  "widgets": {
   "state": {},
   "version": "1.1.2"
  }
 },
 "nbformat": 4,
 "nbformat_minor": 1
}
